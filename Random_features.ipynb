{
 "cells": [
  {
   "cell_type": "markdown",
   "metadata": {},
   "source": [
    "We will research the Gaussian approximation by Random Kitchen Sinks. Let's change the formulas a little, but keep the same meaning :\n",
    "$$phi(x) = (\n",
    "\\cos (w_1^T x + b_i),\n",
    "\\dots,\n",
    "\\cos (w_n^T x + b_n)\n",
    "),$$\n",
    "where $w_j \\sim \\mathcal{N}(0, \\sqrt 1/s))$, $b_j \\sim U[-\\pi, \\pi]$.\n",
    "We will build linear models with the new features $ phi (x) $.\n",
    "### Algorithm base\n",
    "You will need to implement the following algorithm:\n",
    "1. Downgrade the sample to a new dimension using PCA.\n",
    "2. For the obtained sample, estimate the hyperparameter $ s ^ 2 $ using the median value.\n",
    "3. Generate n_features of sets of weights $ w_j $ and shifts $ b_j $, and then generate n_features of new features according to our formulas.\n",
    "4. Train a linear model (we will use logistic regression and SVM) on new features and predict. Don't forget to use transform() on the test set.\n",
    "\n",
    "PS: We will also compare in quality with LGBMClassifier both on fashion_mnist dataset and on the dataset from Kaggle (https://www.kaggle.com/sulianova/cardiovascular-disease-dataset)!"
   ]
  },
  {
   "cell_type": "code",
   "execution_count": 1,
   "metadata": {},
   "outputs": [
    {
     "name": "stdout",
     "output_type": "stream",
     "text": [
      "pygame 2.0.1 (SDL 2.0.14, Python 3.8.0)\n",
      "Hello from the pygame community. https://www.pygame.org/contribute.html\n"
     ]
    }
   ],
   "source": [
    "import numpy as np\n",
    "import pandas as pd\n",
    "import random\n",
    "import keras\n",
    "from keras.datasets import fashion_mnist\n",
    "from sklearn.decomposition import PCA\n",
    "from itertools import combinations,starmap,product\n",
    "from sklearn.svm import LinearSVC\n",
    "from sklearn.linear_model import LogisticRegression\n",
    "from lightgbm import LGBMClassifier\n",
    "from pygame import mixer\n",
    "from time import sleep\n",
    "from tqdm import tqdm\n",
    "import sys\n",
    "import warnings \n",
    "from sklearn.metrics import classification_report\n",
    "from sklearn.model_selection import train_test_split, GridSearchCV\n",
    "warnings.filterwarnings('ignore')"
   ]
  },
  {
   "cell_type": "code",
   "execution_count": 2,
   "metadata": {},
   "outputs": [],
   "source": [
    "mixer.init() #you must initialize the mixer\n",
    "alert=mixer.Sound('C:\\\\Users\\\\1\\\\Desktop\\\\ds\\\\add\\\\output\\\\add_mode\\\\IPython\\\\lib\\\\tests\\\\test.wav')"
   ]
  },
  {
   "cell_type": "code",
   "execution_count": 3,
   "metadata": {},
   "outputs": [],
   "source": [
    "(x_train_pics, y_train), (x_test_pics, y_test) = fashion_mnist.load_data()\n",
    "x_train = x_train_pics.reshape(x_train_pics.shape[0],-1)\n",
    "x_test = x_test_pics.reshape(x_test_pics.shape[0],-1)"
   ]
  },
  {
   "cell_type": "code",
   "execution_count": 4,
   "metadata": {},
   "outputs": [],
   "source": [
    "class ALG_with_RBFSampler:\n",
    "    \n",
    "    def __init__(self, n_components=50, n_features=1000, sigma=None,pca=True):\n",
    "        if pca:\n",
    "            self.pca = PCA(n_components)\n",
    "        self.n_component = n_components\n",
    "        self.n_features = n_features\n",
    "        self.sigma = sigma\n",
    "\n",
    "    def sigma_estimation(self, X, features):\n",
    "#         print('Sigma_estimation has started!')\n",
    "        sel = X[np.random.choice(X.shape[0], size=features, replace=False), :]\n",
    "        comba = np.array(list(starmap(lambda a,b: (a-b)**2, list(combinations(sel,2)))))\n",
    "        self.sigma = np.median(np.sum(comba ,axis=1))\n",
    "#         print('Sigma_estimation has finished!')\n",
    "        return self.sigma \n",
    "    \n",
    "    def fit(self, X, y, method=None):\n",
    "        if hasattr(self, 'pca'):\n",
    "#             print('PCA has started')\n",
    "            X = self.pca.fit(X).transform(X)\n",
    "#             print('PCA has finished!')\n",
    "        mu, sigma = 0, 1/self.sigma_estimation(X,1400) # N^2/2 ~ 1000000\n",
    "        phi = self.phi_calculation(X, mu, sigma**0.5)\n",
    "#         print('Fitting')\n",
    "        if method == 'lsvc':\n",
    "            self.clf = LinearSVC(random_state=0, tol=1e-5,verbose=False)\n",
    "        elif method == 'lgr':\n",
    "            self.clf = LogisticRegression(max_iter = 200,verbose=False)\n",
    "        self.clf.fit(phi,y)\n",
    "        return self\n",
    "    \n",
    "    def predict(self,X):\n",
    "#         print('Prediction has started!')\n",
    "        if hasattr(self, 'pca'):\n",
    "            X = self.pca.transform(X)\n",
    "        phi = self.phi_calculation(X, 0, self.sigma**0.5)\n",
    "#         print('Prediction has finished!')\n",
    "        return self.clf.predict(phi)\n",
    "        \n",
    "    def phi_calculation(self, X, mu, sigma):\n",
    "        if not hasattr(self, 'w') :\n",
    "            self.w = np.random.normal(mu, sigma, (X.shape[1],self.n_features))\n",
    "            self.b = np.random.uniform(low=-np.pi, high= np.pi,  size = self.n_features)\n",
    "#         print('np.dot has started!')\n",
    "        phi = np.cos((np.dot(X,self.w))+self.b)\n",
    "#         print('np.dot has finished!')\n",
    "        return phi"
   ]
  },
  {
   "cell_type": "code",
   "execution_count": 5,
   "metadata": {},
   "outputs": [],
   "source": [
    "def results(y_test,prediction):\n",
    "    return (prediction == y_test).sum() / len(y_test)"
   ]
  },
  {
   "cell_type": "code",
   "execution_count": 6,
   "metadata": {},
   "outputs": [
    {
     "name": "stdout",
     "output_type": "stream",
     "text": [
      "processed: 1001                                                                                                        \n",
      "processed: 1501                                                                                                        \n",
      "processed: 2001                                                                                                        \n",
      "processed: 3001                                                                                                        \n",
      "100%|████████████████████████████████████████████████████████████████████████████████████| 4/4 [06:02<00:00, 90.75s/it]\n",
      "Wall time: 6min 3s\n"
     ]
    },
    {
     "data": {
      "text/plain": [
       "<Channel at 0x18beaadb490>"
      ]
     },
     "execution_count": 6,
     "metadata": {},
     "output_type": "execute_result"
    }
   ],
   "source": [
    "%%time\n",
    "n_feat = [1000,1500,2000,3000]\n",
    "pr_with_pca =[]\n",
    "with tqdm(total=len(n_feat),file=sys.stdout) as pbar:\n",
    "    for i in n_feat:\n",
    "        prediction = ALG_with_RBFSampler(pca=True,n_features = i).fit(x_train,y_train,method='lgr').predict(x_test)\n",
    "        pr_with_pca.append(results(y_test,prediction))\n",
    "        pbar.write('processed: %d' % (1 + i))\n",
    "        pbar.update(1)\n",
    "        sleep(1)\n",
    "# alert.play() "
   ]
  },
  {
   "cell_type": "code",
   "execution_count": 7,
   "metadata": {},
   "outputs": [
    {
     "name": "stdout",
     "output_type": "stream",
     "text": [
      "processed: 1001                                                                                                        \n",
      "processed: 1501                                                                                                        \n",
      "processed: 2001                                                                                                        \n",
      "processed: 3001                                                                                                        \n",
      "100%|████████████████████████████████████████████████████████████████████████████████████| 4/4 [01:02<00:00, 15.61s/it]\n",
      "Wall time: 1min 2s\n"
     ]
    },
    {
     "data": {
      "text/plain": [
       "<Channel at 0x18b83d0d7b0>"
      ]
     },
     "execution_count": 7,
     "metadata": {},
     "output_type": "execute_result"
    }
   ],
   "source": [
    "%%time\n",
    "n_feat = [1000,1500,2000,3000]\n",
    "pr_without_pca = []\n",
    "with tqdm(total=len(n_feat),file=sys.stdout) as pbar:\n",
    "    for i in n_feat:\n",
    "        prediction = ALG_with_RBFSampler(pca=False,n_features = i).fit(x_train,y_train,method='lgr').predict(x_test)\n",
    "        pr_without_pca.append(results(y_test,prediction))\n",
    "        pbar.write('processed: %d' % (1 + i))\n",
    "        pbar.update(1)\n",
    "        sleep(1)\n",
    "# alert.play() "
   ]
  },
  {
   "cell_type": "code",
   "execution_count": 8,
   "metadata": {},
   "outputs": [
    {
     "name": "stdout",
     "output_type": "stream",
     "text": [
      "[LightGBM] [Warning] Auto-choosing col-wise multi-threading, the overhead of testing was 0.011515 seconds.\n",
      "You can set `force_col_wise=true` to remove the overhead.\n",
      "[LightGBM] [Info] Total Bins 12750\n",
      "[LightGBM] [Info] Number of data points in the train set: 60000, number of used features: 50\n",
      "[LightGBM] [Info] Start training from score -2.302585\n",
      "[LightGBM] [Info] Start training from score -2.302585\n",
      "[LightGBM] [Info] Start training from score -2.302585\n",
      "[LightGBM] [Info] Start training from score -2.302585\n",
      "[LightGBM] [Info] Start training from score -2.302585\n",
      "[LightGBM] [Info] Start training from score -2.302585\n",
      "[LightGBM] [Info] Start training from score -2.302585\n",
      "[LightGBM] [Info] Start training from score -2.302585\n",
      "[LightGBM] [Info] Start training from score -2.302585\n",
      "[LightGBM] [Info] Start training from score -2.302585\n",
      "Wall time: 25.7 s\n"
     ]
    },
    {
     "data": {
      "text/plain": [
       "<Channel at 0x18b83d0d190>"
      ]
     },
     "execution_count": 8,
     "metadata": {},
     "output_type": "execute_result"
    }
   ],
   "source": [
    "%%time\n",
    "pca = PCA(n_components=50)\n",
    "pca_train_data = pca.fit(x_train).transform(x_train)\n",
    "clf = LGBMClassifier(num_leaves=200,verbose = 1).fit(pca_train_data,y_train)\n",
    "pca_test_data = pca.transform(x_test)\n",
    "prediction = clf.predict(pca_test_data)\n",
    "pr_with_pca_boost = results(y_test,prediction)\n",
    "# alert.play() "
   ]
  },
  {
   "cell_type": "code",
   "execution_count": 9,
   "metadata": {},
   "outputs": [
    {
     "name": "stdout",
     "output_type": "stream",
     "text": [
      "[LightGBM] [Warning] Auto-choosing col-wise multi-threading, the overhead of testing was 0.435221 seconds.\n",
      "You can set `force_col_wise=true` to remove the overhead.\n",
      "[LightGBM] [Info] Total Bins 170881\n",
      "[LightGBM] [Info] Number of data points in the train set: 60000, number of used features: 783\n",
      "[LightGBM] [Info] Start training from score -2.302585\n",
      "[LightGBM] [Info] Start training from score -2.302585\n",
      "[LightGBM] [Info] Start training from score -2.302585\n",
      "[LightGBM] [Info] Start training from score -2.302585\n",
      "[LightGBM] [Info] Start training from score -2.302585\n",
      "[LightGBM] [Info] Start training from score -2.302585\n",
      "[LightGBM] [Info] Start training from score -2.302585\n",
      "[LightGBM] [Info] Start training from score -2.302585\n",
      "[LightGBM] [Info] Start training from score -2.302585\n",
      "[LightGBM] [Info] Start training from score -2.302585\n",
      "Wall time: 2min 43s\n"
     ]
    },
    {
     "data": {
      "text/plain": [
       "<Channel at 0x18b83d0dc30>"
      ]
     },
     "execution_count": 9,
     "metadata": {},
     "output_type": "execute_result"
    }
   ],
   "source": [
    "%%time\n",
    "prediction = LGBMClassifier(num_leaves=100,verbose = 1).fit(x_train,y_train).predict(x_test)\n",
    "pr_without_pca_boost = results(y_test,prediction)\n",
    "# alert.play() "
   ]
  },
  {
   "cell_type": "code",
   "execution_count": 10,
   "metadata": {},
   "outputs": [
    {
     "data": {
      "text/plain": [
       "<Channel at 0x18b83d0d650>"
      ]
     },
     "execution_count": 10,
     "metadata": {},
     "output_type": "execute_result"
    }
   ],
   "source": [
    "prediction = ALG_with_RBFSampler(pca=True).fit(x_train,y_train,method='lsvc').predict(x_test)\n",
    "pr_with_pca_svc = results(y_test,prediction)\n",
    "# alert.play(3) "
   ]
  },
  {
   "cell_type": "code",
   "execution_count": 11,
   "metadata": {},
   "outputs": [
    {
     "name": "stdout",
     "output_type": "stream",
     "text": [
      "pr_with_pca = [0.8704, 0.8704, 0.8716, 0.8733]\n",
      "pr_without_pca = [0.1116, 0.1165, 0.1146, 0.1168]\n",
      "pr_with_pca_boost = 0.8771\n",
      "pr_without_pca_boost = 0.8982\n",
      "pr_with_pca_svc = 0.8705\n"
     ]
    }
   ],
   "source": [
    "print(f'pr_with_pca = {pr_with_pca}')\n",
    "print(f'pr_without_pca = {pr_without_pca}')\n",
    "print(f'pr_with_pca_boost = {pr_with_pca_boost}')\n",
    "print(f'pr_without_pca_boost = {pr_without_pca_boost}')\n",
    "print(f'pr_with_pca_svc = {pr_with_pca_svc}')"
   ]
  },
  {
   "cell_type": "markdown",
   "metadata": {},
   "source": [
    "Let's test our algorithm on the kaggle dataset!"
   ]
  },
  {
   "cell_type": "code",
   "execution_count": 13,
   "metadata": {},
   "outputs": [],
   "source": [
    "df = pd.read_csv('cardio_train.csv',sep=';')"
   ]
  },
  {
   "cell_type": "code",
   "execution_count": 14,
   "metadata": {},
   "outputs": [],
   "source": [
    "df[\"years\"] = df.age / 365\n",
    "target = df['cardio']\n",
    "X = df.drop(['id','cardio','age'],axis = 1)"
   ]
  },
  {
   "cell_type": "code",
   "execution_count": 15,
   "metadata": {},
   "outputs": [
    {
     "data": {
      "text/plain": [
       "gender         0.0\n",
       "height         0.0\n",
       "weight         0.0\n",
       "ap_hi          0.0\n",
       "ap_lo          0.0\n",
       "cholesterol    0.0\n",
       "gluc           0.0\n",
       "smoke          0.0\n",
       "alco           0.0\n",
       "active         0.0\n",
       "years          0.0\n",
       "dtype: float64"
      ]
     },
     "execution_count": 15,
     "metadata": {},
     "output_type": "execute_result"
    }
   ],
   "source": [
    "# no null values in the data\n",
    "X.isna().mean().sort_values(ascending=False)"
   ]
  },
  {
   "cell_type": "code",
   "execution_count": 16,
   "metadata": {},
   "outputs": [],
   "source": [
    "x_train,x_test,y_train,y_test = train_test_split(X,target,test_size=0.3,random_state = 42)"
   ]
  },
  {
   "cell_type": "code",
   "execution_count": 17,
   "metadata": {},
   "outputs": [
    {
     "name": "stdout",
     "output_type": "stream",
     "text": [
      "Fitting 5 folds for each of 216 candidates, totalling 1080 fits\n",
      "{'boosting_type': 'gbdt', 'max_depth': 7, 'n_estimators': 1, 'num_leaves': 100}\n",
      "result = 0.7335238095238096\n",
      "              precision    recall  f1-score   support\n",
      "\n",
      "           0       0.71      0.79      0.75     10461\n",
      "           1       0.76      0.68      0.72     10539\n",
      "\n",
      "    accuracy                           0.73     21000\n",
      "   macro avg       0.74      0.73      0.73     21000\n",
      "weighted avg       0.74      0.73      0.73     21000\n",
      "\n",
      "Wall time: 1min\n"
     ]
    },
    {
     "data": {
      "text/plain": [
       "<Channel at 0x18b81795310>"
      ]
     },
     "execution_count": 17,
     "metadata": {},
     "output_type": "execute_result"
    }
   ],
   "source": [
    "%%time\n",
    "param = {\n",
    "    \"boosting_type\": ['gbdt','dart','goss','rf'],\n",
    "    \"n_estimators\": np.arange(1, 10, 10),\n",
    "    \"num_leaves\": np.arange(100, 1000, 100),\n",
    "    \"max_depth\": np.arange(4,10)\n",
    "}\n",
    "pipeline_clf = GridSearchCV(LGBMClassifier(), param, verbose=1)\n",
    "pipeline_clf.fit(x_train, y_train)\n",
    "best_parameters= pipeline_clf.best_params_\n",
    "print(best_parameters)\n",
    "y_preds = pipeline_clf.predict(x_test)\n",
    "print(f'result = {results(y_test,y_preds)}')\n",
    "class_report = classification_report(y_test, y_preds)\n",
    "print(class_report)\n",
    "# alert.play() "
   ]
  },
  {
   "cell_type": "code",
   "execution_count": 18,
   "metadata": {},
   "outputs": [
    {
     "name": "stdout",
     "output_type": "stream",
     "text": [
      "  0%|                                                                                           | 0/25 [00:00<?, ?it/s]1000 1\n",
      "3000 step: 26                                                                                                          \n",
      "  4%|███▎                                                                               | 1/25 [00:18<07:15, 18.15s/it]1000 3\n",
      "3000 step: 26                                                                                                          \n",
      "  8%|██████▋                                                                            | 2/25 [00:37<07:11, 18.78s/it]1000 5\n",
      "3000 step: 26                                                                                                          \n",
      " 12%|█████████▉                                                                         | 3/25 [00:56<06:58, 19.03s/it]1000 7\n",
      "3000 step: 26                                                                                                          \n",
      " 16%|█████████████▎                                                                     | 4/25 [01:15<06:41, 19.11s/it]1000 9\n",
      "3000 step: 26                                                                                                          \n",
      " 20%|████████████████▌                                                                  | 5/25 [01:35<06:23, 19.19s/it]2000 1\n",
      "3000 step: 26                                                                                                          \n",
      " 24%|███████████████████▉                                                               | 6/25 [02:06<07:20, 23.18s/it]2000 3\n",
      "3000 step: 26                                                                                                          \n",
      " 28%|███████████████████████▏                                                           | 7/25 [02:36<07:41, 25.65s/it]2000 5\n",
      "3000 step: 26                                                                                                          \n",
      " 32%|██████████████████████████▌                                                        | 8/25 [03:07<07:41, 27.14s/it]2000 7\n",
      "3000 step: 26                                                                                                          \n",
      " 36%|█████████████████████████████▉                                                     | 9/25 [03:37<07:30, 28.15s/it]2000 9\n",
      "3000 step: 26                                                                                                          \n",
      " 40%|████████████████████████████████▊                                                 | 10/25 [04:08<07:13, 28.93s/it]3000 1\n",
      "3000 step: 26                                                                                                          \n",
      " 44%|████████████████████████████████████                                              | 11/25 [04:51<07:46, 33.29s/it]3000 3\n",
      "3000 step: 26                                                                                                          \n",
      " 48%|███████████████████████████████████████▎                                          | 12/25 [05:35<07:56, 36.68s/it]3000 5\n",
      "3000 step: 26                                                                                                          \n",
      " 52%|██████████████████████████████████████████▋                                       | 13/25 [06:19<07:44, 38.74s/it]3000 7\n",
      "3000 step: 26                                                                                                          \n",
      " 56%|█████████████████████████████████████████████▉                                    | 14/25 [07:02<07:21, 40.12s/it]3000 9\n",
      "3000 step: 26                                                                                                          \n",
      " 60%|█████████████████████████████████████████████████▏                                | 15/25 [07:46<06:51, 41.19s/it]4000 1\n",
      "3000 step: 26                                                                                                          \n",
      " 64%|████████████████████████████████████████████████████▍                             | 16/25 [08:40<06:46, 45.22s/it]4000 3\n",
      "3000 step: 26                                                                                                          \n",
      " 68%|███████████████████████████████████████████████████████▊                          | 17/25 [09:34<06:22, 47.78s/it]4000 5\n",
      "3000 step: 26                                                                                                          \n",
      " 72%|███████████████████████████████████████████████████████████                       | 18/25 [10:28<05:48, 49.72s/it]4000 7\n",
      "3000 step: 26                                                                                                          \n",
      " 76%|██████████████████████████████████████████████████████████████▎                   | 19/25 [11:23<05:06, 51.04s/it]4000 9\n",
      "3000 step: 26                                                                                                          \n",
      " 80%|█████████████████████████████████████████████████████████████████▌                | 20/25 [12:16<04:18, 51.79s/it]5000 1\n",
      "3000 step: 26                                                                                                          \n",
      " 84%|████████████████████████████████████████████████████████████████████▉             | 21/25 [13:26<03:49, 57.37s/it]5000 3\n",
      "3000 step: 26                                                                                                          \n",
      " 88%|████████████████████████████████████████████████████████████████████████▏         | 22/25 [14:34<03:01, 60.54s/it]5000 5\n",
      "3000 step: 26                                                                                                          \n",
      " 92%|███████████████████████████████████████████████████████████████████████████▍      | 23/25 [15:42<02:05, 62.75s/it]5000 7\n",
      "3000 step: 26                                                                                                          \n",
      " 96%|██████████████████████████████████████████████████████████████████████████████▋   | 24/25 [16:49<01:03, 63.90s/it]5000 9\n",
      "3000 step: 26                                                                                                          \n",
      "100%|██████████████████████████████████████████████████████████████████████████████████| 25/25 [17:58<00:00, 43.14s/it]\n"
     ]
    }
   ],
   "source": [
    "n_feat = list(np.arange(1000, 6000, 1000))\n",
    "n_comp = list(np.arange(1,11,2))\n",
    "param = np.array(list(product(n_feat, n_comp)))\n",
    "pr_with_pca = []\n",
    "predictions_matrix = []\n",
    "with tqdm(total=param.shape[0],file=sys.stdout) as pbar:\n",
    "    for f, c in param:\n",
    "        print(f,c)\n",
    "        prediction = ALG_with_RBFSampler(pca=True, n_components = c , n_features = f).fit(x_train,y_train,method='lgr').predict(x_test)\n",
    "        pr_with_pca.append(results(y_test,prediction))\n",
    "        predictions_matrix.append(prediction)\n",
    "        pbar.write(f'{i} step: %d' % (1 + param.shape[0]))\n",
    "        pbar.update(1)\n",
    "        sleep(1)"
   ]
  },
  {
   "cell_type": "code",
   "execution_count": 97,
   "metadata": {},
   "outputs": [
    {
     "name": "stdout",
     "output_type": "stream",
     "text": [
      "              precision    recall  f1-score   support\n",
      "\n",
      "           0       0.72      0.76      0.74     10461\n",
      "           1       0.75      0.71      0.73     10539\n",
      "\n",
      "    accuracy                           0.74     21000\n",
      "   macro avg       0.74      0.74      0.74     21000\n",
      "weighted avg       0.74      0.74      0.74     21000\n",
      "\n",
      "results 0.738904761904762\n"
     ]
    }
   ],
   "source": [
    "best_res_index = pr_with_pca.index(max(pr_with_pca))\n",
    "class_report = classification_report(y_test, predictions_matrix[19])\n",
    "print(class_report)\n",
    "print(f'results {pr_with_pca[best_res_index]}')\n",
    "# alert.play(5) "
   ]
  },
  {
   "cell_type": "code",
   "execution_count": 104,
   "metadata": {},
   "outputs": [],
   "source": [
    "Parameters = pd.DataFrame({'n_comp':param[:,1],'n_feat':param[:,0],'pr_with_pca':pr_with_pca})"
   ]
  },
  {
   "cell_type": "code",
   "execution_count": 105,
   "metadata": {
    "scrolled": false
   },
   "outputs": [
    {
     "data": {
      "application/vnd.plotly.v1+json": {
       "config": {
        "plotlyServerURL": "https://plot.ly"
       },
       "data": [
        {
         "hovertemplate": "n_comp=%{x}<br>n_feat=%{y}<br>pr_with_pca=%{marker.color}<extra></extra>",
         "legendgroup": "",
         "marker": {
          "color": [
           0.6690952380952381,
           0.7181904761904762,
           0.7273333333333334,
           0.7345714285714285,
           0.7369523809523809,
           0.6653333333333333,
           0.7181904761904762,
           0.7279047619047619,
           0.7357619047619047,
           0.7373333333333333,
           0.678,
           0.7187142857142857,
           0.7276666666666667,
           0.733904761904762,
           0.7367142857142858,
           0.6685238095238095,
           0.7182857142857143,
           0.7283809523809524,
           0.733904761904762,
           0.738904761904762,
           0.6653333333333333,
           0.7180952380952381,
           0.7276190476190476,
           0.733904761904762,
           0.7358571428571429
          ],
          "coloraxis": "coloraxis",
          "symbol": "circle"
         },
         "mode": "markers",
         "name": "",
         "scene": "scene",
         "showlegend": false,
         "type": "scatter3d",
         "x": [
          1,
          3,
          5,
          7,
          9,
          1,
          3,
          5,
          7,
          9,
          1,
          3,
          5,
          7,
          9,
          1,
          3,
          5,
          7,
          9,
          1,
          3,
          5,
          7,
          9
         ],
         "y": [
          1000,
          1000,
          1000,
          1000,
          1000,
          2000,
          2000,
          2000,
          2000,
          2000,
          3000,
          3000,
          3000,
          3000,
          3000,
          4000,
          4000,
          4000,
          4000,
          4000,
          5000,
          5000,
          5000,
          5000,
          5000
         ],
         "z": [
          0.6690952380952381,
          0.7181904761904762,
          0.7273333333333334,
          0.7345714285714285,
          0.7369523809523809,
          0.6653333333333333,
          0.7181904761904762,
          0.7279047619047619,
          0.7357619047619047,
          0.7373333333333333,
          0.678,
          0.7187142857142857,
          0.7276666666666667,
          0.733904761904762,
          0.7367142857142858,
          0.6685238095238095,
          0.7182857142857143,
          0.7283809523809524,
          0.733904761904762,
          0.738904761904762,
          0.6653333333333333,
          0.7180952380952381,
          0.7276190476190476,
          0.733904761904762,
          0.7358571428571429
         ]
        }
       ],
       "layout": {
        "coloraxis": {
         "colorbar": {
          "title": {
           "text": "pr_with_pca"
          }
         },
         "colorscale": [
          [
           0,
           "#0d0887"
          ],
          [
           0.1111111111111111,
           "#46039f"
          ],
          [
           0.2222222222222222,
           "#7201a8"
          ],
          [
           0.3333333333333333,
           "#9c179e"
          ],
          [
           0.4444444444444444,
           "#bd3786"
          ],
          [
           0.5555555555555556,
           "#d8576b"
          ],
          [
           0.6666666666666666,
           "#ed7953"
          ],
          [
           0.7777777777777778,
           "#fb9f3a"
          ],
          [
           0.8888888888888888,
           "#fdca26"
          ],
          [
           1,
           "#f0f921"
          ]
         ]
        },
        "legend": {
         "tracegroupgap": 0
        },
        "scene": {
         "domain": {
          "x": [
           0,
           1
          ],
          "y": [
           0,
           1
          ]
         },
         "xaxis": {
          "title": {
           "text": "n_comp"
          }
         },
         "yaxis": {
          "title": {
           "text": "n_feat"
          }
         },
         "zaxis": {
          "title": {
           "text": "pr_with_pca"
          }
         }
        },
        "template": {
         "data": {
          "bar": [
           {
            "error_x": {
             "color": "#f2f5fa"
            },
            "error_y": {
             "color": "#f2f5fa"
            },
            "marker": {
             "line": {
              "color": "rgb(17,17,17)",
              "width": 0.5
             }
            },
            "type": "bar"
           }
          ],
          "barpolar": [
           {
            "marker": {
             "line": {
              "color": "rgb(17,17,17)",
              "width": 0.5
             }
            },
            "type": "barpolar"
           }
          ],
          "carpet": [
           {
            "aaxis": {
             "endlinecolor": "#A2B1C6",
             "gridcolor": "#506784",
             "linecolor": "#506784",
             "minorgridcolor": "#506784",
             "startlinecolor": "#A2B1C6"
            },
            "baxis": {
             "endlinecolor": "#A2B1C6",
             "gridcolor": "#506784",
             "linecolor": "#506784",
             "minorgridcolor": "#506784",
             "startlinecolor": "#A2B1C6"
            },
            "type": "carpet"
           }
          ],
          "choropleth": [
           {
            "colorbar": {
             "outlinewidth": 0,
             "ticks": ""
            },
            "type": "choropleth"
           }
          ],
          "contour": [
           {
            "colorbar": {
             "outlinewidth": 0,
             "ticks": ""
            },
            "colorscale": [
             [
              0,
              "#0d0887"
             ],
             [
              0.1111111111111111,
              "#46039f"
             ],
             [
              0.2222222222222222,
              "#7201a8"
             ],
             [
              0.3333333333333333,
              "#9c179e"
             ],
             [
              0.4444444444444444,
              "#bd3786"
             ],
             [
              0.5555555555555556,
              "#d8576b"
             ],
             [
              0.6666666666666666,
              "#ed7953"
             ],
             [
              0.7777777777777778,
              "#fb9f3a"
             ],
             [
              0.8888888888888888,
              "#fdca26"
             ],
             [
              1,
              "#f0f921"
             ]
            ],
            "type": "contour"
           }
          ],
          "contourcarpet": [
           {
            "colorbar": {
             "outlinewidth": 0,
             "ticks": ""
            },
            "type": "contourcarpet"
           }
          ],
          "heatmap": [
           {
            "colorbar": {
             "outlinewidth": 0,
             "ticks": ""
            },
            "colorscale": [
             [
              0,
              "#0d0887"
             ],
             [
              0.1111111111111111,
              "#46039f"
             ],
             [
              0.2222222222222222,
              "#7201a8"
             ],
             [
              0.3333333333333333,
              "#9c179e"
             ],
             [
              0.4444444444444444,
              "#bd3786"
             ],
             [
              0.5555555555555556,
              "#d8576b"
             ],
             [
              0.6666666666666666,
              "#ed7953"
             ],
             [
              0.7777777777777778,
              "#fb9f3a"
             ],
             [
              0.8888888888888888,
              "#fdca26"
             ],
             [
              1,
              "#f0f921"
             ]
            ],
            "type": "heatmap"
           }
          ],
          "heatmapgl": [
           {
            "colorbar": {
             "outlinewidth": 0,
             "ticks": ""
            },
            "colorscale": [
             [
              0,
              "#0d0887"
             ],
             [
              0.1111111111111111,
              "#46039f"
             ],
             [
              0.2222222222222222,
              "#7201a8"
             ],
             [
              0.3333333333333333,
              "#9c179e"
             ],
             [
              0.4444444444444444,
              "#bd3786"
             ],
             [
              0.5555555555555556,
              "#d8576b"
             ],
             [
              0.6666666666666666,
              "#ed7953"
             ],
             [
              0.7777777777777778,
              "#fb9f3a"
             ],
             [
              0.8888888888888888,
              "#fdca26"
             ],
             [
              1,
              "#f0f921"
             ]
            ],
            "type": "heatmapgl"
           }
          ],
          "histogram": [
           {
            "marker": {
             "colorbar": {
              "outlinewidth": 0,
              "ticks": ""
             }
            },
            "type": "histogram"
           }
          ],
          "histogram2d": [
           {
            "colorbar": {
             "outlinewidth": 0,
             "ticks": ""
            },
            "colorscale": [
             [
              0,
              "#0d0887"
             ],
             [
              0.1111111111111111,
              "#46039f"
             ],
             [
              0.2222222222222222,
              "#7201a8"
             ],
             [
              0.3333333333333333,
              "#9c179e"
             ],
             [
              0.4444444444444444,
              "#bd3786"
             ],
             [
              0.5555555555555556,
              "#d8576b"
             ],
             [
              0.6666666666666666,
              "#ed7953"
             ],
             [
              0.7777777777777778,
              "#fb9f3a"
             ],
             [
              0.8888888888888888,
              "#fdca26"
             ],
             [
              1,
              "#f0f921"
             ]
            ],
            "type": "histogram2d"
           }
          ],
          "histogram2dcontour": [
           {
            "colorbar": {
             "outlinewidth": 0,
             "ticks": ""
            },
            "colorscale": [
             [
              0,
              "#0d0887"
             ],
             [
              0.1111111111111111,
              "#46039f"
             ],
             [
              0.2222222222222222,
              "#7201a8"
             ],
             [
              0.3333333333333333,
              "#9c179e"
             ],
             [
              0.4444444444444444,
              "#bd3786"
             ],
             [
              0.5555555555555556,
              "#d8576b"
             ],
             [
              0.6666666666666666,
              "#ed7953"
             ],
             [
              0.7777777777777778,
              "#fb9f3a"
             ],
             [
              0.8888888888888888,
              "#fdca26"
             ],
             [
              1,
              "#f0f921"
             ]
            ],
            "type": "histogram2dcontour"
           }
          ],
          "mesh3d": [
           {
            "colorbar": {
             "outlinewidth": 0,
             "ticks": ""
            },
            "type": "mesh3d"
           }
          ],
          "parcoords": [
           {
            "line": {
             "colorbar": {
              "outlinewidth": 0,
              "ticks": ""
             }
            },
            "type": "parcoords"
           }
          ],
          "pie": [
           {
            "automargin": true,
            "type": "pie"
           }
          ],
          "scatter": [
           {
            "marker": {
             "line": {
              "color": "#283442"
             }
            },
            "type": "scatter"
           }
          ],
          "scatter3d": [
           {
            "line": {
             "colorbar": {
              "outlinewidth": 0,
              "ticks": ""
             }
            },
            "marker": {
             "colorbar": {
              "outlinewidth": 0,
              "ticks": ""
             }
            },
            "type": "scatter3d"
           }
          ],
          "scattercarpet": [
           {
            "marker": {
             "colorbar": {
              "outlinewidth": 0,
              "ticks": ""
             }
            },
            "type": "scattercarpet"
           }
          ],
          "scattergeo": [
           {
            "marker": {
             "colorbar": {
              "outlinewidth": 0,
              "ticks": ""
             }
            },
            "type": "scattergeo"
           }
          ],
          "scattergl": [
           {
            "marker": {
             "line": {
              "color": "#283442"
             }
            },
            "type": "scattergl"
           }
          ],
          "scattermapbox": [
           {
            "marker": {
             "colorbar": {
              "outlinewidth": 0,
              "ticks": ""
             }
            },
            "type": "scattermapbox"
           }
          ],
          "scatterpolar": [
           {
            "marker": {
             "colorbar": {
              "outlinewidth": 0,
              "ticks": ""
             }
            },
            "type": "scatterpolar"
           }
          ],
          "scatterpolargl": [
           {
            "marker": {
             "colorbar": {
              "outlinewidth": 0,
              "ticks": ""
             }
            },
            "type": "scatterpolargl"
           }
          ],
          "scatterternary": [
           {
            "marker": {
             "colorbar": {
              "outlinewidth": 0,
              "ticks": ""
             }
            },
            "type": "scatterternary"
           }
          ],
          "surface": [
           {
            "colorbar": {
             "outlinewidth": 0,
             "ticks": ""
            },
            "colorscale": [
             [
              0,
              "#0d0887"
             ],
             [
              0.1111111111111111,
              "#46039f"
             ],
             [
              0.2222222222222222,
              "#7201a8"
             ],
             [
              0.3333333333333333,
              "#9c179e"
             ],
             [
              0.4444444444444444,
              "#bd3786"
             ],
             [
              0.5555555555555556,
              "#d8576b"
             ],
             [
              0.6666666666666666,
              "#ed7953"
             ],
             [
              0.7777777777777778,
              "#fb9f3a"
             ],
             [
              0.8888888888888888,
              "#fdca26"
             ],
             [
              1,
              "#f0f921"
             ]
            ],
            "type": "surface"
           }
          ],
          "table": [
           {
            "cells": {
             "fill": {
              "color": "#506784"
             },
             "line": {
              "color": "rgb(17,17,17)"
             }
            },
            "header": {
             "fill": {
              "color": "#2a3f5f"
             },
             "line": {
              "color": "rgb(17,17,17)"
             }
            },
            "type": "table"
           }
          ]
         },
         "layout": {
          "annotationdefaults": {
           "arrowcolor": "#f2f5fa",
           "arrowhead": 0,
           "arrowwidth": 1
          },
          "autotypenumbers": "strict",
          "coloraxis": {
           "colorbar": {
            "outlinewidth": 0,
            "ticks": ""
           }
          },
          "colorscale": {
           "diverging": [
            [
             0,
             "#8e0152"
            ],
            [
             0.1,
             "#c51b7d"
            ],
            [
             0.2,
             "#de77ae"
            ],
            [
             0.3,
             "#f1b6da"
            ],
            [
             0.4,
             "#fde0ef"
            ],
            [
             0.5,
             "#f7f7f7"
            ],
            [
             0.6,
             "#e6f5d0"
            ],
            [
             0.7,
             "#b8e186"
            ],
            [
             0.8,
             "#7fbc41"
            ],
            [
             0.9,
             "#4d9221"
            ],
            [
             1,
             "#276419"
            ]
           ],
           "sequential": [
            [
             0,
             "#0d0887"
            ],
            [
             0.1111111111111111,
             "#46039f"
            ],
            [
             0.2222222222222222,
             "#7201a8"
            ],
            [
             0.3333333333333333,
             "#9c179e"
            ],
            [
             0.4444444444444444,
             "#bd3786"
            ],
            [
             0.5555555555555556,
             "#d8576b"
            ],
            [
             0.6666666666666666,
             "#ed7953"
            ],
            [
             0.7777777777777778,
             "#fb9f3a"
            ],
            [
             0.8888888888888888,
             "#fdca26"
            ],
            [
             1,
             "#f0f921"
            ]
           ],
           "sequentialminus": [
            [
             0,
             "#0d0887"
            ],
            [
             0.1111111111111111,
             "#46039f"
            ],
            [
             0.2222222222222222,
             "#7201a8"
            ],
            [
             0.3333333333333333,
             "#9c179e"
            ],
            [
             0.4444444444444444,
             "#bd3786"
            ],
            [
             0.5555555555555556,
             "#d8576b"
            ],
            [
             0.6666666666666666,
             "#ed7953"
            ],
            [
             0.7777777777777778,
             "#fb9f3a"
            ],
            [
             0.8888888888888888,
             "#fdca26"
            ],
            [
             1,
             "#f0f921"
            ]
           ]
          },
          "colorway": [
           "#636efa",
           "#EF553B",
           "#00cc96",
           "#ab63fa",
           "#FFA15A",
           "#19d3f3",
           "#FF6692",
           "#B6E880",
           "#FF97FF",
           "#FECB52"
          ],
          "font": {
           "color": "#f2f5fa"
          },
          "geo": {
           "bgcolor": "rgb(17,17,17)",
           "lakecolor": "rgb(17,17,17)",
           "landcolor": "rgb(17,17,17)",
           "showlakes": true,
           "showland": true,
           "subunitcolor": "#506784"
          },
          "hoverlabel": {
           "align": "left"
          },
          "hovermode": "closest",
          "mapbox": {
           "style": "dark"
          },
          "paper_bgcolor": "rgb(17,17,17)",
          "plot_bgcolor": "rgb(17,17,17)",
          "polar": {
           "angularaxis": {
            "gridcolor": "#506784",
            "linecolor": "#506784",
            "ticks": ""
           },
           "bgcolor": "rgb(17,17,17)",
           "radialaxis": {
            "gridcolor": "#506784",
            "linecolor": "#506784",
            "ticks": ""
           }
          },
          "scene": {
           "xaxis": {
            "backgroundcolor": "rgb(17,17,17)",
            "gridcolor": "#506784",
            "gridwidth": 2,
            "linecolor": "#506784",
            "showbackground": true,
            "ticks": "",
            "zerolinecolor": "#C8D4E3"
           },
           "yaxis": {
            "backgroundcolor": "rgb(17,17,17)",
            "gridcolor": "#506784",
            "gridwidth": 2,
            "linecolor": "#506784",
            "showbackground": true,
            "ticks": "",
            "zerolinecolor": "#C8D4E3"
           },
           "zaxis": {
            "backgroundcolor": "rgb(17,17,17)",
            "gridcolor": "#506784",
            "gridwidth": 2,
            "linecolor": "#506784",
            "showbackground": true,
            "ticks": "",
            "zerolinecolor": "#C8D4E3"
           }
          },
          "shapedefaults": {
           "line": {
            "color": "#f2f5fa"
           }
          },
          "sliderdefaults": {
           "bgcolor": "#C8D4E3",
           "bordercolor": "rgb(17,17,17)",
           "borderwidth": 1,
           "tickwidth": 0
          },
          "ternary": {
           "aaxis": {
            "gridcolor": "#506784",
            "linecolor": "#506784",
            "ticks": ""
           },
           "baxis": {
            "gridcolor": "#506784",
            "linecolor": "#506784",
            "ticks": ""
           },
           "bgcolor": "rgb(17,17,17)",
           "caxis": {
            "gridcolor": "#506784",
            "linecolor": "#506784",
            "ticks": ""
           }
          },
          "title": {
           "x": 0.05
          },
          "updatemenudefaults": {
           "bgcolor": "#506784",
           "borderwidth": 0
          },
          "xaxis": {
           "automargin": true,
           "gridcolor": "#283442",
           "linecolor": "#506784",
           "ticks": "",
           "title": {
            "standoff": 15
           },
           "zerolinecolor": "#283442",
           "zerolinewidth": 2
          },
          "yaxis": {
           "automargin": true,
           "gridcolor": "#283442",
           "linecolor": "#506784",
           "ticks": "",
           "title": {
            "standoff": 15
           },
           "zerolinecolor": "#283442",
           "zerolinewidth": 2
          }
         }
        },
        "title": {
         "text": "Parameters"
        }
       }
      },
      "text/html": [
       "<div>                            <div id=\"6a9a8630-b16d-4840-b223-08f0576ec087\" class=\"plotly-graph-div\" style=\"height:525px; width:100%;\"></div>            <script type=\"text/javascript\">                require([\"plotly\"], function(Plotly) {                    window.PLOTLYENV=window.PLOTLYENV || {};                                    if (document.getElementById(\"6a9a8630-b16d-4840-b223-08f0576ec087\")) {                    Plotly.newPlot(                        \"6a9a8630-b16d-4840-b223-08f0576ec087\",                        [{\"hovertemplate\": \"n_comp=%{x}<br>n_feat=%{y}<br>pr_with_pca=%{marker.color}<extra></extra>\", \"legendgroup\": \"\", \"marker\": {\"color\": [0.6690952380952381, 0.7181904761904762, 0.7273333333333334, 0.7345714285714285, 0.7369523809523809, 0.6653333333333333, 0.7181904761904762, 0.7279047619047619, 0.7357619047619047, 0.7373333333333333, 0.678, 0.7187142857142857, 0.7276666666666667, 0.733904761904762, 0.7367142857142858, 0.6685238095238095, 0.7182857142857143, 0.7283809523809524, 0.733904761904762, 0.738904761904762, 0.6653333333333333, 0.7180952380952381, 0.7276190476190476, 0.733904761904762, 0.7358571428571429], \"coloraxis\": \"coloraxis\", \"symbol\": \"circle\"}, \"mode\": \"markers\", \"name\": \"\", \"scene\": \"scene\", \"showlegend\": false, \"type\": \"scatter3d\", \"x\": [1, 3, 5, 7, 9, 1, 3, 5, 7, 9, 1, 3, 5, 7, 9, 1, 3, 5, 7, 9, 1, 3, 5, 7, 9], \"y\": [1000, 1000, 1000, 1000, 1000, 2000, 2000, 2000, 2000, 2000, 3000, 3000, 3000, 3000, 3000, 4000, 4000, 4000, 4000, 4000, 5000, 5000, 5000, 5000, 5000], \"z\": [0.6690952380952381, 0.7181904761904762, 0.7273333333333334, 0.7345714285714285, 0.7369523809523809, 0.6653333333333333, 0.7181904761904762, 0.7279047619047619, 0.7357619047619047, 0.7373333333333333, 0.678, 0.7187142857142857, 0.7276666666666667, 0.733904761904762, 0.7367142857142858, 0.6685238095238095, 0.7182857142857143, 0.7283809523809524, 0.733904761904762, 0.738904761904762, 0.6653333333333333, 0.7180952380952381, 0.7276190476190476, 0.733904761904762, 0.7358571428571429]}],                        {\"coloraxis\": {\"colorbar\": {\"title\": {\"text\": \"pr_with_pca\"}}, \"colorscale\": [[0.0, \"#0d0887\"], [0.1111111111111111, \"#46039f\"], [0.2222222222222222, \"#7201a8\"], [0.3333333333333333, \"#9c179e\"], [0.4444444444444444, \"#bd3786\"], [0.5555555555555556, \"#d8576b\"], [0.6666666666666666, \"#ed7953\"], [0.7777777777777778, \"#fb9f3a\"], [0.8888888888888888, \"#fdca26\"], [1.0, \"#f0f921\"]]}, \"legend\": {\"tracegroupgap\": 0}, \"scene\": {\"domain\": {\"x\": [0.0, 1.0], \"y\": [0.0, 1.0]}, \"xaxis\": {\"title\": {\"text\": \"n_comp\"}}, \"yaxis\": {\"title\": {\"text\": \"n_feat\"}}, \"zaxis\": {\"title\": {\"text\": \"pr_with_pca\"}}}, \"template\": {\"data\": {\"bar\": [{\"error_x\": {\"color\": \"#f2f5fa\"}, \"error_y\": {\"color\": \"#f2f5fa\"}, \"marker\": {\"line\": {\"color\": \"rgb(17,17,17)\", \"width\": 0.5}}, \"type\": \"bar\"}], \"barpolar\": [{\"marker\": {\"line\": {\"color\": \"rgb(17,17,17)\", \"width\": 0.5}}, \"type\": \"barpolar\"}], \"carpet\": [{\"aaxis\": {\"endlinecolor\": \"#A2B1C6\", \"gridcolor\": \"#506784\", \"linecolor\": \"#506784\", \"minorgridcolor\": \"#506784\", \"startlinecolor\": \"#A2B1C6\"}, \"baxis\": {\"endlinecolor\": \"#A2B1C6\", \"gridcolor\": \"#506784\", \"linecolor\": \"#506784\", \"minorgridcolor\": \"#506784\", \"startlinecolor\": \"#A2B1C6\"}, \"type\": \"carpet\"}], \"choropleth\": [{\"colorbar\": {\"outlinewidth\": 0, \"ticks\": \"\"}, \"type\": \"choropleth\"}], \"contour\": [{\"colorbar\": {\"outlinewidth\": 0, \"ticks\": \"\"}, \"colorscale\": [[0.0, \"#0d0887\"], [0.1111111111111111, \"#46039f\"], [0.2222222222222222, \"#7201a8\"], [0.3333333333333333, \"#9c179e\"], [0.4444444444444444, \"#bd3786\"], [0.5555555555555556, \"#d8576b\"], [0.6666666666666666, \"#ed7953\"], [0.7777777777777778, \"#fb9f3a\"], [0.8888888888888888, \"#fdca26\"], [1.0, \"#f0f921\"]], \"type\": \"contour\"}], \"contourcarpet\": [{\"colorbar\": {\"outlinewidth\": 0, \"ticks\": \"\"}, \"type\": \"contourcarpet\"}], \"heatmap\": [{\"colorbar\": {\"outlinewidth\": 0, \"ticks\": \"\"}, \"colorscale\": [[0.0, \"#0d0887\"], [0.1111111111111111, \"#46039f\"], [0.2222222222222222, \"#7201a8\"], [0.3333333333333333, \"#9c179e\"], [0.4444444444444444, \"#bd3786\"], [0.5555555555555556, \"#d8576b\"], [0.6666666666666666, \"#ed7953\"], [0.7777777777777778, \"#fb9f3a\"], [0.8888888888888888, \"#fdca26\"], [1.0, \"#f0f921\"]], \"type\": \"heatmap\"}], \"heatmapgl\": [{\"colorbar\": {\"outlinewidth\": 0, \"ticks\": \"\"}, \"colorscale\": [[0.0, \"#0d0887\"], [0.1111111111111111, \"#46039f\"], [0.2222222222222222, \"#7201a8\"], [0.3333333333333333, \"#9c179e\"], [0.4444444444444444, \"#bd3786\"], [0.5555555555555556, \"#d8576b\"], [0.6666666666666666, \"#ed7953\"], [0.7777777777777778, \"#fb9f3a\"], [0.8888888888888888, \"#fdca26\"], [1.0, \"#f0f921\"]], \"type\": \"heatmapgl\"}], \"histogram\": [{\"marker\": {\"colorbar\": {\"outlinewidth\": 0, \"ticks\": \"\"}}, \"type\": \"histogram\"}], \"histogram2d\": [{\"colorbar\": {\"outlinewidth\": 0, \"ticks\": \"\"}, \"colorscale\": [[0.0, \"#0d0887\"], [0.1111111111111111, \"#46039f\"], [0.2222222222222222, \"#7201a8\"], [0.3333333333333333, \"#9c179e\"], [0.4444444444444444, \"#bd3786\"], [0.5555555555555556, \"#d8576b\"], [0.6666666666666666, \"#ed7953\"], [0.7777777777777778, \"#fb9f3a\"], [0.8888888888888888, \"#fdca26\"], [1.0, \"#f0f921\"]], \"type\": \"histogram2d\"}], \"histogram2dcontour\": [{\"colorbar\": {\"outlinewidth\": 0, \"ticks\": \"\"}, \"colorscale\": [[0.0, \"#0d0887\"], [0.1111111111111111, \"#46039f\"], [0.2222222222222222, \"#7201a8\"], [0.3333333333333333, \"#9c179e\"], [0.4444444444444444, \"#bd3786\"], [0.5555555555555556, \"#d8576b\"], [0.6666666666666666, \"#ed7953\"], [0.7777777777777778, \"#fb9f3a\"], [0.8888888888888888, \"#fdca26\"], [1.0, \"#f0f921\"]], \"type\": \"histogram2dcontour\"}], \"mesh3d\": [{\"colorbar\": {\"outlinewidth\": 0, \"ticks\": \"\"}, \"type\": \"mesh3d\"}], \"parcoords\": [{\"line\": {\"colorbar\": {\"outlinewidth\": 0, \"ticks\": \"\"}}, \"type\": \"parcoords\"}], \"pie\": [{\"automargin\": true, \"type\": \"pie\"}], \"scatter\": [{\"marker\": {\"line\": {\"color\": \"#283442\"}}, \"type\": \"scatter\"}], \"scatter3d\": [{\"line\": {\"colorbar\": {\"outlinewidth\": 0, \"ticks\": \"\"}}, \"marker\": {\"colorbar\": {\"outlinewidth\": 0, \"ticks\": \"\"}}, \"type\": \"scatter3d\"}], \"scattercarpet\": [{\"marker\": {\"colorbar\": {\"outlinewidth\": 0, \"ticks\": \"\"}}, \"type\": \"scattercarpet\"}], \"scattergeo\": [{\"marker\": {\"colorbar\": {\"outlinewidth\": 0, \"ticks\": \"\"}}, \"type\": \"scattergeo\"}], \"scattergl\": [{\"marker\": {\"line\": {\"color\": \"#283442\"}}, \"type\": \"scattergl\"}], \"scattermapbox\": [{\"marker\": {\"colorbar\": {\"outlinewidth\": 0, \"ticks\": \"\"}}, \"type\": \"scattermapbox\"}], \"scatterpolar\": [{\"marker\": {\"colorbar\": {\"outlinewidth\": 0, \"ticks\": \"\"}}, \"type\": \"scatterpolar\"}], \"scatterpolargl\": [{\"marker\": {\"colorbar\": {\"outlinewidth\": 0, \"ticks\": \"\"}}, \"type\": \"scatterpolargl\"}], \"scatterternary\": [{\"marker\": {\"colorbar\": {\"outlinewidth\": 0, \"ticks\": \"\"}}, \"type\": \"scatterternary\"}], \"surface\": [{\"colorbar\": {\"outlinewidth\": 0, \"ticks\": \"\"}, \"colorscale\": [[0.0, \"#0d0887\"], [0.1111111111111111, \"#46039f\"], [0.2222222222222222, \"#7201a8\"], [0.3333333333333333, \"#9c179e\"], [0.4444444444444444, \"#bd3786\"], [0.5555555555555556, \"#d8576b\"], [0.6666666666666666, \"#ed7953\"], [0.7777777777777778, \"#fb9f3a\"], [0.8888888888888888, \"#fdca26\"], [1.0, \"#f0f921\"]], \"type\": \"surface\"}], \"table\": [{\"cells\": {\"fill\": {\"color\": \"#506784\"}, \"line\": {\"color\": \"rgb(17,17,17)\"}}, \"header\": {\"fill\": {\"color\": \"#2a3f5f\"}, \"line\": {\"color\": \"rgb(17,17,17)\"}}, \"type\": \"table\"}]}, \"layout\": {\"annotationdefaults\": {\"arrowcolor\": \"#f2f5fa\", \"arrowhead\": 0, \"arrowwidth\": 1}, \"autotypenumbers\": \"strict\", \"coloraxis\": {\"colorbar\": {\"outlinewidth\": 0, \"ticks\": \"\"}}, \"colorscale\": {\"diverging\": [[0, \"#8e0152\"], [0.1, \"#c51b7d\"], [0.2, \"#de77ae\"], [0.3, \"#f1b6da\"], [0.4, \"#fde0ef\"], [0.5, \"#f7f7f7\"], [0.6, \"#e6f5d0\"], [0.7, \"#b8e186\"], [0.8, \"#7fbc41\"], [0.9, \"#4d9221\"], [1, \"#276419\"]], \"sequential\": [[0.0, \"#0d0887\"], [0.1111111111111111, \"#46039f\"], [0.2222222222222222, \"#7201a8\"], [0.3333333333333333, \"#9c179e\"], [0.4444444444444444, \"#bd3786\"], [0.5555555555555556, \"#d8576b\"], [0.6666666666666666, \"#ed7953\"], [0.7777777777777778, \"#fb9f3a\"], [0.8888888888888888, \"#fdca26\"], [1.0, \"#f0f921\"]], \"sequentialminus\": [[0.0, \"#0d0887\"], [0.1111111111111111, \"#46039f\"], [0.2222222222222222, \"#7201a8\"], [0.3333333333333333, \"#9c179e\"], [0.4444444444444444, \"#bd3786\"], [0.5555555555555556, \"#d8576b\"], [0.6666666666666666, \"#ed7953\"], [0.7777777777777778, \"#fb9f3a\"], [0.8888888888888888, \"#fdca26\"], [1.0, \"#f0f921\"]]}, \"colorway\": [\"#636efa\", \"#EF553B\", \"#00cc96\", \"#ab63fa\", \"#FFA15A\", \"#19d3f3\", \"#FF6692\", \"#B6E880\", \"#FF97FF\", \"#FECB52\"], \"font\": {\"color\": \"#f2f5fa\"}, \"geo\": {\"bgcolor\": \"rgb(17,17,17)\", \"lakecolor\": \"rgb(17,17,17)\", \"landcolor\": \"rgb(17,17,17)\", \"showlakes\": true, \"showland\": true, \"subunitcolor\": \"#506784\"}, \"hoverlabel\": {\"align\": \"left\"}, \"hovermode\": \"closest\", \"mapbox\": {\"style\": \"dark\"}, \"paper_bgcolor\": \"rgb(17,17,17)\", \"plot_bgcolor\": \"rgb(17,17,17)\", \"polar\": {\"angularaxis\": {\"gridcolor\": \"#506784\", \"linecolor\": \"#506784\", \"ticks\": \"\"}, \"bgcolor\": \"rgb(17,17,17)\", \"radialaxis\": {\"gridcolor\": \"#506784\", \"linecolor\": \"#506784\", \"ticks\": \"\"}}, \"scene\": {\"xaxis\": {\"backgroundcolor\": \"rgb(17,17,17)\", \"gridcolor\": \"#506784\", \"gridwidth\": 2, \"linecolor\": \"#506784\", \"showbackground\": true, \"ticks\": \"\", \"zerolinecolor\": \"#C8D4E3\"}, \"yaxis\": {\"backgroundcolor\": \"rgb(17,17,17)\", \"gridcolor\": \"#506784\", \"gridwidth\": 2, \"linecolor\": \"#506784\", \"showbackground\": true, \"ticks\": \"\", \"zerolinecolor\": \"#C8D4E3\"}, \"zaxis\": {\"backgroundcolor\": \"rgb(17,17,17)\", \"gridcolor\": \"#506784\", \"gridwidth\": 2, \"linecolor\": \"#506784\", \"showbackground\": true, \"ticks\": \"\", \"zerolinecolor\": \"#C8D4E3\"}}, \"shapedefaults\": {\"line\": {\"color\": \"#f2f5fa\"}}, \"sliderdefaults\": {\"bgcolor\": \"#C8D4E3\", \"bordercolor\": \"rgb(17,17,17)\", \"borderwidth\": 1, \"tickwidth\": 0}, \"ternary\": {\"aaxis\": {\"gridcolor\": \"#506784\", \"linecolor\": \"#506784\", \"ticks\": \"\"}, \"baxis\": {\"gridcolor\": \"#506784\", \"linecolor\": \"#506784\", \"ticks\": \"\"}, \"bgcolor\": \"rgb(17,17,17)\", \"caxis\": {\"gridcolor\": \"#506784\", \"linecolor\": \"#506784\", \"ticks\": \"\"}}, \"title\": {\"x\": 0.05}, \"updatemenudefaults\": {\"bgcolor\": \"#506784\", \"borderwidth\": 0}, \"xaxis\": {\"automargin\": true, \"gridcolor\": \"#283442\", \"linecolor\": \"#506784\", \"ticks\": \"\", \"title\": {\"standoff\": 15}, \"zerolinecolor\": \"#283442\", \"zerolinewidth\": 2}, \"yaxis\": {\"automargin\": true, \"gridcolor\": \"#283442\", \"linecolor\": \"#506784\", \"ticks\": \"\", \"title\": {\"standoff\": 15}, \"zerolinecolor\": \"#283442\", \"zerolinewidth\": 2}}}, \"title\": {\"text\": \"Parameters\"}},                        {\"responsive\": true}                    ).then(function(){\n",
       "                            \n",
       "var gd = document.getElementById('6a9a8630-b16d-4840-b223-08f0576ec087');\n",
       "var x = new MutationObserver(function (mutations, observer) {{\n",
       "        var display = window.getComputedStyle(gd).display;\n",
       "        if (!display || display === 'none') {{\n",
       "            console.log([gd, 'removed!']);\n",
       "            Plotly.purge(gd);\n",
       "            observer.disconnect();\n",
       "        }}\n",
       "}});\n",
       "\n",
       "// Listen for the removal of the full notebook cells\n",
       "var notebookContainer = gd.closest('#notebook-container');\n",
       "if (notebookContainer) {{\n",
       "    x.observe(notebookContainer, {childList: true});\n",
       "}}\n",
       "\n",
       "// Listen for the clearing of the current output cell\n",
       "var outputEl = gd.closest('.output');\n",
       "if (outputEl) {{\n",
       "    x.observe(outputEl, {childList: true});\n",
       "}}\n",
       "\n",
       "                        })                };                });            </script>        </div>"
      ]
     },
     "metadata": {},
     "output_type": "display_data"
    }
   ],
   "source": [
    "import plotly.express as px\n",
    "fig = px.scatter_3d(Parameters, x='n_comp', y='n_feat', z='pr_with_pca',\n",
    "              color='pr_with_pca',template = \"plotly_dark\",title = 'Parameters')\n",
    "fig.show()"
   ]
  },
  {
   "cell_type": "code",
   "execution_count": null,
   "metadata": {},
   "outputs": [],
   "source": []
  }
 ],
 "metadata": {
  "kernelspec": {
   "display_name": "Python 3",
   "language": "python",
   "name": "python3"
  },
  "language_info": {
   "codemirror_mode": {
    "name": "ipython",
    "version": 3
   },
   "file_extension": ".py",
   "mimetype": "text/x-python",
   "name": "python",
   "nbconvert_exporter": "python",
   "pygments_lexer": "ipython3",
   "version": "3.8.0"
  }
 },
 "nbformat": 4,
 "nbformat_minor": 2
}
